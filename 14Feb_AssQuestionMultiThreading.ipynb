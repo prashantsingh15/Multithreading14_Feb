{
 "cells": [
  {
   "cell_type": "markdown",
   "id": "a321841f",
   "metadata": {},
   "source": [
    "### What is multithreading in python? Why is it used? Name the module used to handle threads in python"
   ]
  },
  {
   "cell_type": "markdown",
   "id": "d0b45c93",
   "metadata": {},
   "source": [
    "- ANS --> Multithreading in Python refers to the ability of a program to execute multiple threads (smaller units of a process) concurrently within the same process. Each thread runs independently, performing its designated tasks. Multithreading is used to achieve concurrent execution, allowing a program to make better use of available resources and potentially improve performance for certain types of tasks.\n",
    "\n",
    "- The threading module is used to handle threads in Python. "
   ]
  },
  {
   "cell_type": "code",
   "execution_count": 3,
   "id": "07a9b9e7",
   "metadata": {},
   "outputs": [
    {
     "name": "stdout",
     "output_type": "stream",
     "text": [
      "Thread 1: 1\n",
      "Thread 1: 2\n",
      "Thread 1: 3\n",
      "Thread 1: 4\n",
      "Thread 1: 5\n",
      "Threads 2: a\n",
      "Threads 2: b\n",
      "Threads 2: c\n",
      "Threads 2: d\n",
      "Threads 2: e\n",
      "Both Threads have finished\n"
     ]
    }
   ],
   "source": [
    "import threading\n",
    "\n",
    "def print_numbers():\n",
    "    for i in range (1, 6):\n",
    "        print(\"Thread 1:\",i)\n",
    "        \n",
    "        \n",
    "def print_letters():\n",
    "    for letter in 'abcde':\n",
    "        print(\"Threads 2:\",letter)\n",
    "        \n",
    "        \n",
    "thread1 = threading.Thread(target = print_numbers)\n",
    "thread2 = threading.Thread(target = print_letters)\n",
    "\n",
    "thread1.start()\n",
    "thread2.start()\n",
    "\n",
    "thread1.join()\n",
    "thread2.join()\n",
    "\n",
    "print(\"Both Threads have finished\")"
   ]
  },
  {
   "cell_type": "markdown",
   "id": "49979de8",
   "metadata": {},
   "source": [
    "## Q2.Why threading module used? Write the use of the following functions\n",
    "1. activeCount()\n",
    "2. currentThread()\n",
    "3. enumerate()"
   ]
  },
  {
   "cell_type": "markdown",
   "id": "d1fbae82",
   "metadata": {},
   "source": [
    "### - Ans -- >The threading module in Python is used to work with threads, enabling you to create and manage multiple threads within a single process. It provides a high-level interface to handle threading, making it easier to work with concurrent execution.\n",
    "\n",
    "\n",
    "- 1. activeCount() : It's useful to keep track of how many threads are currently running in your program .\n",
    "\n",
    "- 2. currentThread() : It's  useful when if you want to identify the currently executing thread or access its properties.\n",
    "\n",
    "- 3. enumerate() : This is useful when you want to inspect or manipulate all the threads running in your program."
   ]
  },
  {
   "cell_type": "code",
   "execution_count": null,
   "id": "fdcc05d4",
   "metadata": {},
   "outputs": [],
   "source": []
  },
  {
   "cell_type": "markdown",
   "id": "11e6f714",
   "metadata": {},
   "source": [
    "## Q3. Explain the following functions\n",
    "1. run()\n",
    "2.  start()\n",
    "3. join()\n",
    "4. isAlive()"
   ]
  },
  {
   "cell_type": "markdown",
   "id": "135951c8",
   "metadata": {},
   "source": [
    "- 1. run() : The run() method defines the behavior that the thread will execute when started. It's the entry point for the thread's activity. By overriding this method, you can define the specific task you want the thread to perform.\n",
    "\n",
    "\n",
    "- 2. start() : It schedules the thread to run independently and concurrently with the main program. \n",
    "\n",
    "\n",
    "- 3. join() : This function is used to wait for a thread to complete its execution. When you call the join() method on a Thread object, the calling thread (usually the main thread) will block until the target thread (the thread on which join() is called) finishes executing."
   ]
  },
  {
   "cell_type": "markdown",
   "id": "1ac2687d",
   "metadata": {},
   "source": [
    "### Q4. Write a python program to create two threads. Thread one must print the list of squares and thread two must print the list of cubes."
   ]
  },
  {
   "cell_type": "code",
   "execution_count": 6,
   "id": "d4673642",
   "metadata": {},
   "outputs": [
    {
     "name": "stdout",
     "output_type": "stream",
     "text": [
      "Square of 1: 1\n",
      "Square of 2: 4\n",
      "Square of 3: 9\n",
      "Square of 4: 16\n",
      "Square of 5: 25\n",
      "Cube of 1: 1\n",
      "Cube of 2: 8\n",
      "Cube of 3: 27\n",
      "Cube of 4: 64\n",
      "Cube of 5: 125\n"
     ]
    }
   ],
   "source": [
    "import threading\n",
    "\n",
    "def list_square():\n",
    "    for i in range(1, 6):\n",
    "        print(f\"Square of {i}: {i*i}\" )\n",
    "        \n",
    "def print_cubes():\n",
    "    for i in range(1, 6):\n",
    "        print(f\"Cube of {i}: {i*i*i}\")\n",
    "        \n",
    "thread1 = threading.Thread(target = list_square)\n",
    "thread2 = threading.Thread(target = print_cubes)\n",
    "\n",
    "thread1.start()\n",
    "thread2.start()\n",
    "\n",
    "thread1.join()\n",
    "thread2.join()"
   ]
  },
  {
   "cell_type": "markdown",
   "id": "329861f1",
   "metadata": {},
   "source": [
    "## Q 5. State advantages and disadvantages of multithreading"
   ]
  },
  {
   "cell_type": "markdown",
   "id": "2bc4c95c",
   "metadata": {},
   "source": [
    "### Here is the Advantage of Multithreading --\n",
    "\n",
    "- i) Concurrency: One of the primary advantages of multithreading is concurrent execution. \n",
    "\n",
    "- ii) Responsiveness: Multithreading can enhance the responsiveness of an application, especially in cases where tasks such as user interface updates need to be handled while other operations are running in the background .\n",
    "\n",
    "- iii) Resource Sharing: Threads within the same process can easily share data and resources, such as memory, which can lead to more efficient communication and coordination between different parts of the program.\n",
    "\n",
    "- iv) Efficient I/O Handling: For I/O-bound tasks (tasks that spend a lot of time waiting for input/output operations), multithreading can significantly improve efficiency by allowing other threads to execute while one thread is waiting for I/O.\n",
    "\n",
    "\n",
    "- v) Parallelism on Multi-Core CPUs: On multi-core processors, multithreading can lead to true parallelism when tasks are sufficiently parallelizable, utilizing the full power of modern hardware."
   ]
  },
  {
   "cell_type": "markdown",
   "id": "6ab6486b",
   "metadata": {},
   "source": [
    "## Here is the disadvantage of the Multithreading --\n",
    "\n",
    "- i) Complexity: Multithreaded programs are often more complex to design, implement, and debug compared to single-threaded programs.\n",
    "\n",
    "- ii) Resource Consumption: Threads consume system resources, such as memory and CPU time. \n",
    "\n",
    "- iii) Synchronization Overhead: Proper synchronization mechanisms (e.g., locks, semaphores) are required to ensure thread safety and avoid race conditions. \n",
    "\n",
    "- iv) Debugging and Testing: Identifying and fixing bugs in multithreaded programs can be more challenging due to the non-deterministic nature of thread execution.\n"
   ]
  },
  {
   "cell_type": "markdown",
   "id": "315e1a96",
   "metadata": {},
   "source": [
    "# Q 6. Explain deadlocks and race conditions."
   ]
  },
  {
   "cell_type": "markdown",
   "id": "497ffc5e",
   "metadata": {},
   "source": [
    "- A deadlock is a situation where two or more threads or processes in a concurrent system are unable to proceed because they're each waiting for a resource that the other holds, resulting in a \"stalemate.\" In other words, none of the threads can continue their execution, and the system is effectively stuck.\n",
    "\n",
    "\n",
    "\n",
    "- A race condition occurs when the behavior of a program depends on the relative timing of events, such as the execution order of threads or processes, leading to unpredictable and undesirable outcomes. Race conditions often happen when multiple threads or processes access shared resources concurrently without proper synchronization, and the final result depends on the timing of their operations."
   ]
  },
  {
   "cell_type": "code",
   "execution_count": null,
   "id": "d77937b4",
   "metadata": {},
   "outputs": [],
   "source": []
  }
 ],
 "metadata": {
  "kernelspec": {
   "display_name": "Python 3 (ipykernel)",
   "language": "python",
   "name": "python3"
  },
  "language_info": {
   "codemirror_mode": {
    "name": "ipython",
    "version": 3
   },
   "file_extension": ".py",
   "mimetype": "text/x-python",
   "name": "python",
   "nbconvert_exporter": "python",
   "pygments_lexer": "ipython3",
   "version": "3.11.2"
  }
 },
 "nbformat": 4,
 "nbformat_minor": 5
}
